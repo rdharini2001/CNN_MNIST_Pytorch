{
  "nbformat": 4,
  "nbformat_minor": 0,
  "metadata": {
    "colab": {
      "name": "CNN_MNIST_PYTORCH_NEW.ipynb",
      "provenance": [],
      "collapsed_sections": [],
      "authorship_tag": "ABX9TyOIiz6xfYN2TbNnDj9F9ooB",
      "include_colab_link": true
    },
    "kernelspec": {
      "name": "python3",
      "display_name": "Python 3"
    },
    "language_info": {
      "name": "python"
    }
  },
  "cells": [
    {
      "cell_type": "markdown",
      "metadata": {
        "id": "view-in-github",
        "colab_type": "text"
      },
      "source": [
        "<a href=\"https://colab.research.google.com/github/rdharini2001/CNN_MNIST_Pytorch/blob/main/CNN_MNIST_PYTORCH_NEW.ipynb\" target=\"_parent\"><img src=\"https://colab.research.google.com/assets/colab-badge.svg\" alt=\"Open In Colab\"/></a>"
      ]
    },
    {
      "cell_type": "code",
      "metadata": {
        "id": "TiCzMVuiS2MP"
      },
      "source": [
        "import numpy as np\n",
        "from matplotlib import pyplot as plt\n",
        "from torchvision import datasets, transforms\n",
        "import torch\n",
        "from torch import nn\n",
        "from torch import optim\n",
        "import torch.nn.functional as F"
      ],
      "execution_count": null,
      "outputs": []
    },
    {
      "cell_type": "code",
      "metadata": {
        "colab": {
          "base_uri": "https://localhost:8080/"
        },
        "id": "y7XalU5wS5kR",
        "outputId": "cc4f12ca-df45-4be2-993c-da67c46de4c0"
      },
      "source": [
        "# Normalizing data\n",
        "transform = transforms.Compose([transforms.ToTensor(),transforms.Normalize((0.1307,), (0.3081,))])\n",
        "\n",
        "# Download and load the training data\n",
        "train_set = datasets.MNIST('DATA_MNIST/', download=True, train=True, transform=transform)\n",
        "trainloader = torch.utils.data.DataLoader(train_set, batch_size=64, shuffle=True)\n",
        "\n",
        "test_set = datasets.MNIST('DATA_MNIST/', download=True, train=False, transform=transform)\n",
        "testloader = torch.utils.data.DataLoader(test_set, batch_size=64, shuffle=True)"
      ],
      "execution_count": null,
      "outputs": [
        {
          "output_type": "stream",
          "name": "stderr",
          "text": [
            "/usr/local/lib/python3.7/dist-packages/torchvision/datasets/mnist.py:498: UserWarning: The given NumPy array is not writeable, and PyTorch does not support non-writeable tensors. This means you can write to the underlying (supposedly non-writeable) NumPy array using the tensor. You may want to copy the array to protect its data or make it writeable before converting it to a tensor. This type of warning will be suppressed for the rest of this program. (Triggered internally at  /pytorch/torch/csrc/utils/tensor_numpy.cpp:180.)\n",
            "  return torch.from_numpy(parsed.astype(m[2], copy=False)).view(*s)\n"
          ]
        }
      ]
    },
    {
      "cell_type": "code",
      "metadata": {
        "id": "DVJbOUmQX2RN"
      },
      "source": [
        "training_data = enumerate(trainloader)\n",
        "batch_idx, (images, labels) = next(training_data)"
      ],
      "execution_count": null,
      "outputs": []
    },
    {
      "cell_type": "code",
      "metadata": {
        "colab": {
          "base_uri": "https://localhost:8080/",
          "height": 551
        },
        "id": "40i-YhP4X5kj",
        "outputId": "dd622c20-79b1-44ee-833c-bba6443342e7"
      },
      "source": [
        "fig = plt.figure()\n",
        "for i in range(4):\n",
        "    plt.subplot(2,2,i+1)\n",
        "    plt.tight_layout()\n",
        "    plt.imshow(images[i][0], cmap='Purples')\n",
        "    plt.title(\"Ground Truth Label: {}\".format(labels[i]))\n",
        "    plt.yticks([])\n",
        "    plt.xticks([])\n",
        "fig"
      ],
      "execution_count": null,
      "outputs": [
        {
          "output_type": "execute_result",
          "data": {
            "image/png": "[encoded data removed]",
            "text/plain": [
              "<Figure size 432x288 with 4 Axes>"
            ]
          },
          "metadata": {},
          "execution_count": 6
        },
        {
          "output_type": "display_data",
          "data": {
            "image/png": "[encoded data removed]",
            "text/plain": [
              "<Figure size 432x288 with 4 Axes>"
            ]
          },
          "metadata": {}
        }
      ]
    },
    {
      "cell_type": "code",
      "metadata": {
        "id": "cUfmI8OdX_ZS"
      },
      "source": [
        "class Network(nn.Module):\n",
        "\n",
        "    def __init__(self):\n",
        "        super(Network, self).__init__()\n",
        "        # Convolutional Neural Network Layer \n",
        "        self.convolutaional_neural_network_layers = nn.Sequential(\n",
        "                # Defining 2D convolutional layers\n",
        "                # Calculating the output size of each convolutional layer using the following formula\n",
        "                # output = [(in_channel + 2*padding - kernel_size) / stride] + 1\n",
        "                # in_channels=1 because input is a grayscale image\n",
        "                nn.Conv2d(in_channels=1, out_channels=12, kernel_size=3, padding=1, stride=1), # (N, 1, 28, 28) \n",
        "                nn.ReLU(),\n",
        "                # After the first convolutional layer the output of this layer is:\n",
        "                # [(28 + 2*1 - 3)/1] + 1 = 28. \n",
        "                nn.MaxPool2d(kernel_size=2), \n",
        "                # Since we applied maxpooling with kernel_size=2 we have to divide by 2, so we get\n",
        "                # 28 / 2 = 14\n",
        "          \n",
        "                # output of our second conv layer\n",
        "                nn.Conv2d(in_channels=12, out_channels=24, kernel_size=3, padding=1, stride=1),\n",
        "                nn.ReLU(),\n",
        "                # After the second convolutional layer the output of this layer is:\n",
        "                # [(14 + 2*1 - 3)/1] + 1 = 14. \n",
        "                nn.MaxPool2d(kernel_size=2) \n",
        "                # Since we applied maxpooling with kernel_size=2 we have to divide by 2, so we get\n",
        "                # 14 / 2 = 7\n",
        "        )\n",
        "        # Linear layer\n",
        "        self.linear_layers = nn.Sequential(\n",
        "                # We have the output_channel=24 of our second conv layer, and 7*7 is derived by the formular \n",
        "                # which is the output of each convolutional layer\n",
        "                nn.Linear(in_features=24*7*7, out_features=64),          \n",
        "                nn.ReLU(),\n",
        "                nn.Dropout(p=0.2), # Dropout with probability of 0.2 to avoid overfitting\n",
        "                nn.Linear(in_features=64, out_features=10) # The output is 10 which should match the size of our class\n",
        "        )\n",
        "\n",
        "    # Defining the forward pass \n",
        "    def forward(self, x):\n",
        "        x = self.convolutaional_neural_network_layers(x)\n",
        "        # After we get the output of our convolutional layer we must flatten it or rearrange the output into a vector\n",
        "        x = x.view(x.size(0), -1)\n",
        "        # Then pass it through the linear layer\n",
        "        x = self.linear_layers(x)\n",
        "        # The softmax function returns the prob likelihood of getting the input image. \n",
        "        # We will see a much graphical demonstration below\n",
        "        x = F.log_softmax(x, dim=1)\n",
        "        return x"
      ],
      "execution_count": null,
      "outputs": []
    },
    {
      "cell_type": "code",
      "metadata": {
        "colab": {
          "base_uri": "https://localhost:8080/"
        },
        "id": "PBUB2G97YFXe",
        "outputId": "ab68bb7d-abe9-4128-af83-f3030bd4026c"
      },
      "source": [
        "model = Network()\n",
        "model.to(device)\n",
        "print(model)"
      ],
      "execution_count": null,
      "outputs": [
        {
          "output_type": "stream",
          "name": "stdout",
          "text": [
            "Network(\n",
            "  (convolutaional_neural_network_layers): Sequential(\n",
            "    (0): Conv2d(1, 12, kernel_size=(3, 3), stride=(1, 1), padding=(1, 1))\n",
            "    (1): ReLU()\n",
            "    (2): MaxPool2d(kernel_size=2, stride=2, padding=0, dilation=1, ceil_mode=False)\n",
            "    (3): Conv2d(12, 24, kernel_size=(3, 3), stride=(1, 1), padding=(1, 1))\n",
            "    (4): ReLU()\n",
            "    (5): MaxPool2d(kernel_size=2, stride=2, padding=0, dilation=1, ceil_mode=False)\n",
            "  )\n",
            "  (linear_layers): Sequential(\n",
            "    (0): Linear(in_features=1176, out_features=64, bias=True)\n",
            "    (1): ReLU()\n",
            "    (2): Dropout(p=0.2, inplace=False)\n",
            "    (3): Linear(in_features=64, out_features=10, bias=True)\n",
            "  )\n",
            ")\n"
          ]
        }
      ]
    },
    {
      "cell_type": "code",
      "metadata": {
        "id": "Px7FSqkjYH1b"
      },
      "source": [
        "optimizer = optim.SGD(model.parameters(), lr=0.01)\n",
        "criterion = nn.CrossEntropyLoss()"
      ],
      "execution_count": null,
      "outputs": []
    },
    {
      "cell_type": "code",
      "metadata": {
        "colab": {
          "base_uri": "https://localhost:8080/"
        },
        "id": "42-wvbLlYMJf",
        "outputId": "a47fea52-8f9e-4989-f001-17d201218eaa"
      },
      "source": [
        "epochs = 15 # The total number of iterations\n",
        "\n",
        "train_losses = []\n",
        "test_losses = []\n",
        "\n",
        "for epoch in range(epochs):\n",
        "    # prep model for training\n",
        "    model.train()\n",
        "    train_loss = 0\n",
        "\n",
        "    for idx, (images, labels) in enumerate(trainloader): \n",
        "\n",
        "        # Send these >>> To GPU\n",
        "        images = images.to(device)\n",
        "        labels = labels.to(device)\n",
        "\n",
        "        # Training pass\n",
        "        optimizer.zero_grad()\n",
        "\n",
        "        # Forward pass\n",
        "        output = model(images)\n",
        "        loss = criterion(output, labels)\n",
        "\n",
        "        #Backward pass\n",
        "        loss.backward()\n",
        "        optimizer.step()\n",
        "\n",
        "        train_loss += loss.item()\n",
        "    else:\n",
        "          # prep model for evaluation\n",
        "          model.eval() \n",
        "          test_loss = 0\n",
        "          accuracy = 0\n",
        "\n",
        "          # Turn off the gradients when performing validation.\n",
        "          # If we don't turn it off, we will comprise our networks weight entirely\n",
        "          with torch.no_grad():\n",
        "            for images, labels in testloader:\n",
        "                \n",
        "                images = images.to(device)\n",
        "                labels = labels.to(device)\n",
        "                \n",
        "                log_probabilities = model(images)\n",
        "                test_loss += criterion(log_probabilities, labels)\n",
        "\n",
        "                probabilities = torch.exp(log_probabilities)\n",
        "                top_prob, top_class = probabilities.topk(1, dim=1)\n",
        "                predictions = top_class == labels.view(*top_class.shape)\n",
        "                accuracy += torch.mean(predictions.type(torch.FloatTensor))\n",
        "        \n",
        "          train_losses.append(train_loss/len(trainloader))\n",
        "          test_losses.append(test_loss/len(testloader))\n",
        "        \n",
        "          print(\"Epoch: {}/{}  \".format(epoch+1, epochs),\n",
        "          \"Training loss: {:.4f}  \".format(train_loss/len(trainloader)),\n",
        "          \"Testing loss: {:.4f}  \".format(test_loss/len(testloader)),\n",
        "          \"Test accuracy: {:.4f}  \".format(accuracy/len(testloader)))"
      ],
      "execution_count": null,
      "outputs": [
        {
          "output_type": "stream",
          "name": "stderr",
          "text": [
            "/usr/local/lib/python3.7/dist-packages/torch/nn/functional.py:718: UserWarning: Named tensors and all their associated APIs are an experimental feature and subject to change. Please do not use them for anything important until they are released as stable. (Triggered internally at  /pytorch/c10/core/TensorImpl.h:1156.)\n",
            "  return torch.max_pool2d(input, kernel_size, stride, padding, dilation, ceil_mode)\n"
          ]
        },
        {
          "output_type": "stream",
          "name": "stdout",
          "text": [
            "Epoch: 1/15   Training loss: 0.8057   Testing loss: 0.2519   Test accuracy: 0.9246  \n",
            "Epoch: 2/15   Training loss: 0.2203   Testing loss: 0.1261   Test accuracy: 0.9611  \n",
            "Epoch: 3/15   Training loss: 0.1503   Testing loss: 0.0997   Test accuracy: 0.9691  \n",
            "Epoch: 4/15   Training loss: 0.1206   Testing loss: 0.0779   Test accuracy: 0.9748  \n",
            "Epoch: 5/15   Training loss: 0.1019   Testing loss: 0.0648   Test accuracy: 0.9797  \n",
            "Epoch: 6/15   Training loss: 0.0911   Testing loss: 0.0545   Test accuracy: 0.9824  \n",
            "Epoch: 7/15   Training loss: 0.0810   Testing loss: 0.0559   Test accuracy: 0.9822  \n",
            "Epoch: 8/15   Training loss: 0.0747   Testing loss: 0.0530   Test accuracy: 0.9827  \n",
            "Epoch: 9/15   Training loss: 0.0698   Testing loss: 0.0446   Test accuracy: 0.9850  \n",
            "Epoch: 10/15   Training loss: 0.0650   Testing loss: 0.0447   Test accuracy: 0.9863  \n",
            "Epoch: 11/15   Training loss: 0.0603   Testing loss: 0.0422   Test accuracy: 0.9860  \n",
            "Epoch: 12/15   Training loss: 0.0570   Testing loss: 0.0443   Test accuracy: 0.9847  \n",
            "Epoch: 13/15   Training loss: 0.0544   Testing loss: 0.0388   Test accuracy: 0.9865  \n",
            "Epoch: 14/15   Training loss: 0.0525   Testing loss: 0.0381   Test accuracy: 0.9867  \n",
            "Epoch: 15/15   Training loss: 0.0487   Testing loss: 0.0396   Test accuracy: 0.9849  \n"
          ]
        }
      ]
    },
    {
      "cell_type": "code",
      "metadata": {
        "colab": {
          "base_uri": "https://localhost:8080/",
          "height": 265
        },
        "id": "G4nCJBOQYRsV",
        "outputId": "147feb0f-9b6b-4f26-86bf-bbe993f1dbb7"
      },
      "source": [
        "plt.plot(train_losses, label='Training loss')\n",
        "plt.plot(test_losses, label='Test loss')\n",
        "plt.legend()\n",
        "plt.grid()"
      ],
      "execution_count": null,
      "outputs": [
        {
          "output_type": "display_data",
          "data": {
            "image/png": "[encoded data removed]",
            "text/plain": [
              "<Figure size 432x288 with 1 Axes>"
            ]
          },
          "metadata": {
            "needs_background": "light"
          }
        }
      ]
    },
    {
      "cell_type": "code",
      "metadata": {
        "colab": {
          "base_uri": "https://localhost:8080/"
        },
        "id": "yELuCvohiZ-F",
        "outputId": "74fb8693-bc25-44a7-b8a9-234c41224860"
      },
      "source": [
        "img = images[0]\n",
        "img = img.to(device)\n",
        "img = img.view(-1, 1, 28, 28)\n",
        "print(img.shape)\n",
        "\n",
        "# Since we want to use the already pretrained weights to make some prediction\n",
        "# we are turning off the gradients\n",
        "with torch.no_grad():\n",
        "    logits = model.forward(img)"
      ],
      "execution_count": null,
      "outputs": [
        {
          "output_type": "stream",
          "name": "stdout",
          "text": [
            "torch.Size([1, 1, 28, 28])\n"
          ]
        }
      ]
    },
    {
      "cell_type": "code",
      "metadata": {
        "colab": {
          "base_uri": "https://localhost:8080/",
          "height": 288
        },
        "id": "1nXGACinYWhu",
        "outputId": "531cf6c7-3655-4480-9b67-df9c373f46dc"
      },
      "source": [
        "# We take the softmax for probabilites since our outputs are logits\n",
        "probabilities = F.softmax(logits, dim=1).detach().cpu().numpy().squeeze()\n",
        "\n",
        "print(probabilities)\n",
        "\n",
        "fig, (ax1, ax2) = plt.subplots(figsize=(6,8), ncols=2)\n",
        "ax1.imshow(img.view(1, 28, 28).detach().cpu().numpy().squeeze(), cmap='Purples')\n",
        "ax1.axis('off')\n",
        "ax2.barh(np.arange(10), probabilities, color='r' )\n",
        "ax2.set_aspect(0.1)\n",
        "ax2.set_yticks(np.arange(10))\n",
        "ax2.set_yticklabels(np.arange(10))\n",
        "ax2.set_title('Class Probability')\n",
        "ax2.set_xlim(0, 1.1)\n",
        "\n",
        "plt.tight_layout()"
      ],
      "execution_count": null,
      "outputs": [
        {
          "output_type": "stream",
          "name": "stdout",
          "text": [
            "[1.9759989e-10 3.9217088e-10 3.0045612e-07 7.0543484e-07 6.5798709e-08\n",
            " 1.5680465e-07 7.7682799e-10 5.0712003e-09 9.9999738e-01 1.3497228e-06]\n"
          ]
        },
        {
          "output_type": "display_data",
          "data": {
            "image/png": "[encoded data removed]",
            "text/plain": [
              "<Figure size 432x576 with 2 Axes>"
            ]
          },
          "metadata": {
            "needs_background": "light"
          }
        }
      ]
    }
  ]
}